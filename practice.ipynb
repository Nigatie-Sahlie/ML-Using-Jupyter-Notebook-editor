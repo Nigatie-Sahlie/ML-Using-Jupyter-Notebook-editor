{
 "cells": [
  {
   "cell_type": "markdown",
   "id": "29a26941",
   "metadata": {},
   "source": [
    "<h1 style=\"font: bolder; font-size: 40px; color: greenyellow\">Import Python Libraries</h1>m"
   ]
  },
  {
   "cell_type": "code",
   "execution_count": null,
   "id": "b8140226",
   "metadata": {},
   "outputs": [],
   "source": [
    "import numpy as np\n",
    "import matplotlib.pyplot as plt\n",
    "from scipy.stats import norm\n",
    "import seaborn as sns\n",
    "import pandas as pd\n",
    "from IPython.display import display\n",
    "from sklearn.linear_model import Lasso\n",
    "from sklearn.linear_model import Ridge\n",
    "from sklearn.model_selection import train_test_split\n",
    "from sklearn.datasets import make_regression\n",
    "from sklearn.metrics import mean_squared_error"
   ]
  },
  {
   "cell_type": "markdown",
   "id": "aa972fb0",
   "metadata": {},
   "source": [
    "<p style=\"color: pink; font-size: 30px; font: bold\"> Regularizaion in ML</>"
   ]
  },
  {
   "cell_type": "markdown",
   "id": "cdca9873",
   "metadata": {},
   "source": [
    "<p style=\"color: red; font-size: 20px; font: bold;\">Types of regularization</>"
   ]
  },
  {
   "cell_type": "code",
   "execution_count": null,
   "id": "90aeba89",
   "metadata": {},
   "outputs": [],
   "source": [
    "#lasso regression\n",
    "\n",
    "X, y = make_regression(n_samples=100, n_features=5, noise=0.1, random_state=42)\n",
    "X_train, X_test, y_train, y_test = train_test_split(X, y, test_size=0.2, random_state=42)\n",
    "\n",
    "lasso = Lasso(alpha=0.1)\n",
    "lasso.fit(X_train, y_train)\n",
    "\n",
    "y_pred = lasso.predict(X_test)\n",
    "\n",
    "mse = mean_squared_error(y_test, y_pred)\n",
    "print(f\"Mean Squared Error: {mse}\")\n",
    "\n",
    "print(\"Coefficients:\", lasso.coef_)"
   ]
  },
  {
   "cell_type": "code",
   "execution_count": null,
   "id": "c200b30d",
   "metadata": {},
   "outputs": [],
   "source": [
    "#Ridge regression,\n",
    "\n",
    "X, y = make_regression(n_samples=100, n_features=5, noise=0.1, random_state=42)\n",
    "X_train, X_test, y_train, y_test = train_test_split(X, y, test_size=0.2, random_state=42)\n",
    "\n",
    "ridge = Ridge(alpha=0.1)\n",
    "ridge.fit(X_train, y_train)\n",
    "y_pred = ridge.predict(X_test)\n",
    "\n",
    "mse = mean_squared_error(y_test, y_pred)\n",
    "print(\"Mean Squared Error:\", mse)\n",
    "print(\"Coefficients:\", ridge.coef_)"
   ]
  },
  {
   "cell_type": "markdown",
   "id": "8a30b285",
   "metadata": {},
   "source": [
    "<h1 style=\"color: greenyellow; font: bolder; font-size: 40px;\">Python Libraries</h1>"
   ]
  }
 ],
 "metadata": {
  "kernelspec": {
   "display_name": "venv311 (3.11.0)",
   "language": "python",
   "name": "python3"
  },
  "language_info": {
   "codemirror_mode": {
    "name": "ipython",
    "version": 3
   },
   "file_extension": ".py",
   "mimetype": "text/x-python",
   "name": "python",
   "nbconvert_exporter": "python",
   "pygments_lexer": "ipython3",
   "version": "3.11.0"
  }
 },
 "nbformat": 4,
 "nbformat_minor": 5
}
